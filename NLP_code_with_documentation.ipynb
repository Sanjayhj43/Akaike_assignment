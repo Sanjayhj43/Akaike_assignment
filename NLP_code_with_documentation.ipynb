{
  "cells": [
    {
      "cell_type": "markdown",
      "metadata": {
        "id": "W5aIMT2tY-Sk"
      },
      "source": [
        "# **MCQ Generator using Spacy Library**"
      ]
    },
    {
      "cell_type": "markdown",
      "metadata": {},
      "source": [
        "# Problem Statement:\n",
        "The problem statement is to develop a solution that can automatically generate objective questions with multiple correct answers based on a given chapter from a subject. These questions should test the reader's understanding of the chapter and have more than one possible correct answer to increase the complexity and challenge of the questions. The objective is to create engaging and challenging assessments for students.\n",
        "\n",
        "# Potential Application of the Problem Statement:\n",
        "- Education Sector: This solution can be applied in the education sector to assist educators in generating a wide range of objective questions for assessments, quizzes, and exams.\n",
        "- E-Learning Platforms: E-learning platforms can use this solution to automatically create interactive quizzes and assessments for online courses.\n",
        "- Publishing: Educational publishers can use this to automatically generate question banks for textbooks.\n",
        "- Tutoring and Test Preparation: Companies offering tutoring and test preparation services can use this to create customized practice tests for their students.\n",
        "\n",
        "# Type of Problem:\n",
        "The problem described in the problem statement is primarily a Natural Language Processing (NLP) problem. It involves tasks such as text processing, text generation, and question generation based on a given text. The solution may involve elements of both supervised and unsupervised learning, as well as text generation techniques.\n",
        "\n",
        "# Data:\n",
        "The data required for this problem includes text from chapters in different subjects, and this text can be used as the source material for generating questions. You would need a diverse and extensive corpus of subject-specific texts.\n",
        "\n",
        "# Problems with Data and How They Are Solved:\n",
        "- **Availability of Diverse Texts:** One challenge is to have access to a diverse set of texts for different subjects. You may need to collect or compile texts from various sources and subjects.\n",
        "\n",
        "# Stepwise Solution (Flowchart):\n",
        "1. **Data Collection:** Gather a diverse set of text data from different subjects and chapters.\n",
        "2. **Text Preprocessing:** Clean and preprocess the text data, including tokenization, removal of stop words, and other text normalization steps.\n",
        "3. **Text Analysis:** Use NLP techniques to analyze the text, identify important concepts, keywords, and relevant sections in the text.\n",
        "4. **Question Generation:** Develop algorithms or models that can automatically generate objective questions based on the analyzed text. The questions should be designed to have multiple correct answers, encouraging critical thinking and exploration.\n",
        "5. **Answer Generation:** Generate multiple correct answers for each question, ensuring that they align with the content of the chapter and the question itself.\n",
        "6. **Validation:** Implement a validation process to ensure the generated questions and answers are accurate and aligned with the content.\n",
        "7. **User Interface:** Develop a user interface or API that allows educators to input the chapter and receive a set of generated questions.\n",
        "8. **Deployment:** Deploy the solution for use in educational settings.\n",
        "\n",
        "# Final Solution:\n",
        "The final solution would be a robust NLP-based system that takes a chapter from a subject as input and automatically generates objective questions with multiple correct answers. Educators can use this solution to create engaging and challenging assessments for their students. The system should be accurate, efficient, and user-friendly, enabling easy integration into various educational platforms and workflows. It should encourage critical thinking and exploration by offering questions with multiple correct answers, thereby testing the reader's comprehension and encouraging them to explore different perspectives and possibilities."
      ]
    },
    {
      "cell_type": "markdown",
      "metadata": {
        "id": "B7mF2_SrY6qj"
      },
      "source": [
        "The below code generates multiple-choice questions (MCQs) based on a given context paragraph using the Spacy library. The MCQs are designed to have multiple correct answer choices for added variety. The generated MCQs are then displayed to the user."
      ]
    },
    {
      "cell_type": "markdown",
      "metadata": {
        "id": "NMqubQ48ZxqC"
      },
      "source": [
        "### **Import necessary libraries**"
      ]
    },
    {
      "cell_type": "markdown",
      "metadata": {
        "id": "rrqsD-mUcSTt"
      },
      "source": [
        "The script begins by importing two libraries: `spacy` for natural language processing and `random` for generating random choices."
      ]
    },
    {
      "cell_type": "code",
      "execution_count": 1,
      "metadata": {
        "id": "bJ9pMGgycW0S"
      },
      "outputs": [],
      "source": [
        "import spacy\n",
        "import random"
      ]
    },
    {
      "cell_type": "markdown",
      "metadata": {
        "id": "ojCoRPoLZxnF"
      },
      "source": [
        "### **Load English language model**"
      ]
    },
    {
      "cell_type": "markdown",
      "metadata": {
        "id": "si4r2oRRce6a"
      },
      "source": [
        "It loads the English language model for spaCy named \"en_core_web_sm\" using `spacy.load(\"en_core_web_sm\")`. This model is used for processing and analyzing the text."
      ]
    },
    {
      "cell_type": "code",
      "execution_count": 2,
      "metadata": {
        "id": "eeVl_jKAch9U"
      },
      "outputs": [],
      "source": [
        "nlp = spacy.load(\"en_core_web_sm\")"
      ]
    },
    {
      "cell_type": "markdown",
      "metadata": {
        "id": "gCHAhvbkZxj-"
      },
      "source": [
        "### **Define function**"
      ]
    },
    {
      "cell_type": "markdown",
      "metadata": {
        "id": "AdyuRPoGcrY7"
      },
      "source": [
        "A function named `get_mca_questions` is defined, which takes two arguments: `context` (the text from which questions will be generated) and `num_questions` (the number of questions to be generated)."
      ]
    },
    {
      "cell_type": "code",
      "execution_count": 3,
      "metadata": {
        "id": "OVvwrK0ccvoa"
      },
      "outputs": [],
      "source": [
        "def get_mca_questions(context: str, num_questions: int):\n",
        "  doc = nlp(context)"
      ]
    },
    {
      "cell_type": "markdown",
      "metadata": {
        "id": "76o_bqAmdDhj"
      },
      "source": [
        "### **Define MCQ generation function**"
      ]
    },
    {
      "cell_type": "markdown",
      "metadata": {
        "id": "_4u3VtHrdFYD"
      },
      "source": [
        "Defines a function generate_mcq_with_multiple_correct to create MCQs with multiple correct answers."
      ]
    },
    {
      "cell_type": "code",
      "execution_count": 4,
      "metadata": {
        "id": "5gya8jv8dIzO"
      },
      "outputs": [],
      "source": [
        "def generate_mcq_with_multiple_correct(question, correct_answers, other_options, num_options=4):\n",
        "        options = correct_answers + other_options\n",
        "        random.shuffle(options)\n",
        "\n",
        "        mcq = {\n",
        "            \"question\": question,\n",
        "            \"options\": options,\n",
        "            \"correct_answers\": correct_answers\n",
        "        }"
      ]
    },
    {
      "cell_type": "markdown",
      "metadata": {
        "id": "MSjoinuGZxg1"
      },
      "source": [
        "### **Generate a variety question**"
      ]
    },
    {
      "cell_type": "markdown",
      "metadata": {
        "id": "Sse3acDedUDW"
      },
      "source": [
        "A nested function named `generate_mcq_with_multiple_correct` is defined within `get_mca_questions`. This function is responsible for generating a single MCQ with multiple correct answers.\n",
        "   - It takes a `question` (the question text), `correct_answers` (a list of correct answer options), `other_options` (a list of incorrect answer options), and an optional argument `num_options` (the number of answer options, which is set to 4 by default)."
      ]
    },
    {
      "cell_type": "code",
      "execution_count": 9,
      "metadata": {
        "id": "Ym6dGAUXdU1K"
      },
      "outputs": [],
      "source": [
        "def generate_variety_question():\n",
        "        # randomly select the sentence from content\n",
        "        sentence = random.choice(list(doc.sents))\n",
        "\n",
        "        # randomly choose non- pronounciation words from sentence as blank word\n",
        "        blank_word = random.choice([token for token in sentence if not token.is_punct])\n",
        "\n",
        "        # create a question text with blank word ----\n",
        "        question_text = sentence.text.replace(blank_word.text, \"______\")\n",
        "\n",
        "        #set correct answers to the blank word\n",
        "        correct_answers = [blank_word.text]\n",
        "\n",
        "        #generating other possible answers\n",
        "        other_options = [token.text for token in doc if token.is_alpha and token.text != correct_answers[0]]\n",
        "\n",
        "        #randonly determine how many correct options\n",
        "        num_correct_options = random.randint(1, 2)\n",
        "\n",
        "        #randomly select correct options to the list of options\n",
        "        correct_answers.extend(random.sample(other_options, num_correct_options))\n",
        "\n",
        "        # no of incorrect answers\n",
        "        num_other_options = min(4 - num_correct_options, len(other_options))\n",
        "        other_options = random.sample(other_options, num_other_options)\n",
        "\n",
        "        #generationg final MCQ\n",
        "        mcq = generate_mcq_with_multiple_correct(question_text, correct_answers, other_options)\n",
        "        return mcq"
      ]
    },
    {
      "cell_type": "markdown",
      "metadata": {
        "id": "WV5bUeP9eQOy"
      },
      "source": [
        "### **Generate questions & Process and format questions**"
      ]
    },
    {
      "cell_type": "markdown",
      "metadata": {
        "id": "J6_-nJTOeYBr"
      },
      "source": [
        "- Another nested function named `generate_variety_question` is defined within `get_mca_questions`. This function generates a variety of MCQs with blank spaces in random sentences of the given context.\n",
        "   - It selects a random sentence from `doc` and a random non-punctuation token within that sentence.\n",
        "   - It replaces the selected token with \"______\" to create a question with a blank space.\n",
        "   - It generates one or two correct answer options and selects other random options from the text."
      ]
    },
    {
      "cell_type": "code",
      "execution_count": null,
      "metadata": {},
      "outputs": [],
      "source": [
        "#created empty list to store multiple choice questions\n",
        "mca_questions = []\n",
        "\n",
        "    # enumerate function is used to iterate over the questions\n",
        "for i, question in enumerate(questions, start=1):\n",
        "\n",
        "    #created a string for question number and question text.\n",
        "    question_str = f\"Q{i}: {question['question']}\\n\"\n",
        "\n",
        "    #created empty string to store option for current question\n",
        "    options_str = \"\"\n",
        "\n",
        "    #iterate through options\n",
        "    for j, option in enumerate(question['options']):\n",
        "        options_str += f\"{j+1}. {option}\\n\"\n",
        "\n",
        "    #format the correct answers into human redable format\n",
        "    correct_options_formatted = \" & \".join([f\"({chr(97+question['options'].index(ans))})\" for ans in question['correct_answers']])\n",
        "\n",
        "    #combine the questions and options and format the correct answes\n",
        "    correct_options_str = f\"Correct Options: {correct_options_formatted}\"\n",
        "\n",
        "    #add the questions into formated questions\n",
        "    mca_question = f\"{question_str}{options_str}{correct_options_str}\\n\"\n",
        "    mca_questions.append(mca_question)\n",
        "\n",
        "#return the MCQ questions\n",
        "return mca_questions"
      ]
    },
    {
      "cell_type": "markdown",
      "metadata": {
        "id": "sMKiZfWRZxdD"
      },
      "source": [
        "### **Print Questions**"
      ]
    },
    {
      "cell_type": "markdown",
      "metadata": {
        "id": "udhdAkrYkiGF"
      },
      "source": [
        "- The `generate_variety_question` function is called in a loop `num_questions` times, and the generated MCQs are stored in the `questions` list."
      ]
    },
    {
      "cell_type": "code",
      "execution_count": null,
      "metadata": {},
      "outputs": [],
      "source": [
        "#user input for paragraph\n",
        "context = input(\"Enter the paragraph: \")\n",
        "\n",
        "#no of questions user want to generate\n",
        "num_questions = int(input(\"Enter the number of questions: \"))\n",
        "\n",
        "#calls the function and generate MCQ questions\n",
        "mca_questions = get_mca_questions(context, num_questions)\n",
        "for question in mca_questions:\n",
        "    print(question)"
      ]
    },
    {
      "cell_type": "markdown",
      "metadata": {
        "id": "8CvsIcGXl6Ey"
      },
      "source": [
        "## **MCQ Source Code**"
      ]
    },
    {
      "cell_type": "code",
      "execution_count": 13,
      "metadata": {
        "colab": {
          "base_uri": "https://localhost:8080/",
          "height": 0
        },
        "id": "O_ucy-wBXuC2",
        "outputId": "40e36919-bf37-4951-af53-3c06a4247921"
      },
      "outputs": [
        {
          "name": "stdout",
          "output_type": "stream",
          "text": [
            "Q1: By ______ early seventeenth  century, ______ Dutch too were exploring ______ possibilities  of trade in ______ Indian Ocean.\n",
            "1. possibilities\n",
            "2. Vasco\n",
            "3. the\n",
            "4. so\n",
            "5. competition\n",
            "Correct Options: (c) & (e) & (b)\n",
            "\n",
            "Q2: In fact, it was Vasco da  Gama, a Portuguese explorer, ______ had discovered this  sea route to India in 1498.\n",
            "1. Portuguese\n",
            "2. first\n",
            "3. the\n",
            "4. who\n",
            "5. early\n",
            "Correct Options: (d) & (e) & (b)\n",
            "\n",
            "Q3: With  this charter, the Company  could venture across the  oceans, looking for new lands  from which it could buy goods  at a cheap price, and carry them back to Europe to  sell at higher ______.\n",
            "1. prices\n",
            "2. not\n",
            "3. so\n",
            "4. the\n",
            "5. and\n",
            "Correct Options: (a) & (d)\n",
            "\n",
            "Q4: ______ India Company  Comes ______ In 1600, the ______ India  Company acquired a charter  from the ruler of England,  Queen Elizabeth I, granting  it the sole right to trade with  the ______.\n",
            "1. goods\n",
            "2. By\n",
            "3. East\n",
            "4. competition\n",
            "5. excluding\n",
            "Correct Options: (c) & (d)\n",
            "\n",
            "Q5: By the time the ______ English ships sailed down the  west coast of Africa, round the Cape of Good Hope, and  crossed the Indian Ocean, the Portuguese had already  established their presence in the western coast of India,  and had their base in Goa.\n",
            "1. their\n",
            "2. first\n",
            "3. India\n",
            "4. at\n",
            "5. coast\n",
            "Correct Options: (b) & (c) & (a)\n",
            "\n"
          ]
        }
      ],
      "source": [
        "import spacy\n",
        "import random\n",
        "\n",
        "# Load English language model\n",
        "nlp = spacy.load(\"en_core_web_sm\")\n",
        "\n",
        "def get_mca_questions(context: str, num_questions: int):\n",
        "    doc = nlp(context)\n",
        "\n",
        "    def generate_mcq_with_multiple_correct(question, correct_answers, other_options, num_options=4):\n",
        "        options = correct_answers + other_options\n",
        "        random.shuffle(options)\n",
        "\n",
        "        mcq = {\n",
        "            \"question\": question,\n",
        "            \"options\": options,\n",
        "            \"correct_answers\": correct_answers\n",
        "        }\n",
        "\n",
        "        return mcq\n",
        "\n",
        "    def generate_variety_question():\n",
        "        sentence = random.choice(list(doc.sents))\n",
        "        blank_word = random.choice([token for token in sentence if not token.is_punct])\n",
        "\n",
        "        question_text = sentence.text.replace(blank_word.text, \"______\")\n",
        "        correct_answers = [blank_word.text]\n",
        "\n",
        "        other_options = [token.text for token in doc if token.is_alpha and token.text != correct_answers[0]]\n",
        "        num_correct_options = random.randint(1, 2)  # Generate 1 or 2 correct options\n",
        "        correct_answers.extend(random.sample(other_options, num_correct_options))\n",
        "\n",
        "        num_other_options = min(4 - num_correct_options, len(other_options))\n",
        "        other_options = random.sample(other_options, num_other_options)\n",
        "\n",
        "        mcq = generate_mcq_with_multiple_correct(question_text, correct_answers, other_options)\n",
        "        return mcq\n",
        "\n",
        "    questions = [generate_variety_question() for _ in range(num_questions)]\n",
        "\n",
        "    mca_questions = []\n",
        "    for i, question in enumerate(questions, start=1):\n",
        "        question_str = f\"Q{i}: {question['question']}\\n\"\n",
        "        options_str = \"\"\n",
        "        for j, option in enumerate(question['options']):\n",
        "            options_str += f\"{j+1}. {option}\\n\"\n",
        "\n",
        "        correct_options_formatted = \" & \".join([f\"({chr(97+question['options'].index(ans))})\" for ans in question['correct_answers']])\n",
        "        correct_options_str = f\"Correct Options: {correct_options_formatted}\"\n",
        "\n",
        "        mca_question = f\"{question_str}{options_str}{correct_options_str}\\n\"\n",
        "        mca_questions.append(mca_question)\n",
        "\n",
        "    return mca_questions\n",
        "\n",
        "context = input(\"Enter the paragraph: \")\n",
        "num_questions = int(input(\"Enter the number of questions: \"))\n",
        "mca_questions = get_mca_questions(context, num_questions)\n",
        "for question in mca_questions:\n",
        "    print(question)\n"
      ]
    },
    {
      "cell_type": "markdown",
      "metadata": {},
      "source": []
    },
    {
      "cell_type": "markdown",
      "metadata": {
        "id": "MEhpUv04Y5O9"
      },
      "source": [
        "## **Conclusion**"
      ]
    },
    {
      "cell_type": "markdown",
      "metadata": {
        "id": "AsXkskwTmRYB"
      },
      "source": [
        "Finally, the script prints the generated MCQs, displaying each question along with answer options and the correct answer options.\n",
        "\n",
        "The code essentially allows you to input a paragraph, and it generates multiple-choice questions based on that paragraph with blank spaces. The answer options are also randomly selected from the text, providing a variety of MCQs for practice or assessment."
      ]
    }
  ],
  "metadata": {
    "colab": {
      "provenance": []
    },
    "kernelspec": {
      "display_name": "Python 3",
      "name": "python3"
    },
    "language_info": {
      "codemirror_mode": {
        "name": "ipython",
        "version": 3
      },
      "file_extension": ".py",
      "mimetype": "text/x-python",
      "name": "python",
      "nbconvert_exporter": "python",
      "pygments_lexer": "ipython3",
      "version": "3.11.3"
    }
  },
  "nbformat": 4,
  "nbformat_minor": 0
}
